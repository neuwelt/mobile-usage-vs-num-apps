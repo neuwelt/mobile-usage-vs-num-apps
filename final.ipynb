{
 "cells": [
  {
   "cell_type": "markdown",
   "metadata": {},
   "source": [
    "## Smartphone user behavior:\n",
    "\n",
    "## Does the number of apps influence the time (screen on Time & ) users spend on their phones?\n",
    "\n",
    "Predictive Model to predict usage based number of apps.\n"
   ]
  },
  {
   "cell_type": "markdown",
   "metadata": {},
   "source": [
    "#### Notebook Layout\n",
    "\n",
    "1. Introduction\n",
    "   Formulation of the hypothesis.\n",
    "   Explanation of the methodology.\n",
    "2. Data Exploration\n",
    "   Loading the dataset.\n",
    "   Inspecting and cleaning the data.\n",
    "   Data cleaning:\n",
    "   Remove Nas (Missing, Null)\n",
    "   Remove duplicates\n",
    "   Visualize\n",
    "   Correlation matrix\n",
    "   Classification\n",
    "   Descriptive statistics.\n",
    "3. Feature Engineering\n",
    "   Calculate the number of apps per user.\n",
    "   Aggregate screen-on time per user.\n",
    "   Exploratory Data Analysis (EDA)\n",
    "   Visualize the relationship between the number of apps and screen-on time.\n",
    "   Analyze trends and correlations.\n",
    "   Statistical Analysis\n",
    "   Correlation analysis.\n",
    "   Hypothesis testing.\n",
    "   Modeling\n",
    "   Linear regression to quantify the relationship.\n",
    "   Model evaluation metrics.\n",
    "   Discussion and Conclusion\n",
    "   Interpret the results.\n",
    "   Limitations and future work.\n"
   ]
  },
  {
   "cell_type": "markdown",
   "metadata": {},
   "source": [
    "#### Paper Structure:\n",
    "\n",
    "Introduction:\n",
    "State of the art\n",
    "Related work\n",
    "Research question\n",
    "Methodologies\n",
    "Concept\n",
    "Realization/evaluation\n",
    "Conclusion/outlook\n",
    "Literature/references:\n",
    "https://www.sciencedirect.com/science/article/pii/S0747563222002266\n",
    "https://dl.acm.org/doi/fullHtml/10.1145/3178876.3186169#fn2\n",
    "https://hal.science/hal-03156195/document\n",
    "\n",
    "Links related to the smartphone behavior\n",
    "https://www.kaggle.com/code/harshitpathak18/smartphone-usage-analysis\n",
    "https://www.kaggle.com/datasets/valakhorasani/mobile-device-usage-and-user-behavior-dataset/code\n",
    "https://www.kaggle.com/code/pavankumar4757/predicting-user-behavior-battery-drain-100\n"
   ]
  },
  {
   "cell_type": "markdown",
   "metadata": {},
   "source": [
    "### 01: Data & Packages\n"
   ]
  },
  {
   "cell_type": "code",
   "execution_count": null,
   "metadata": {},
   "outputs": [],
   "source": [
    "#00: Import all required packages\n",
    "import pandas as pd\n",
    "import numpy as np\n",
    "import matplotlib.pyplot as plt\n",
    "import seaborn as sns\n",
    "from scipy.stats import pearsonr, spearmanr\n",
    "from sklearn.linear_model import LinearRegression\n",
    "from sklearn.metrics import mean_squared_error, r2_score\n",
    "from sklearn.model_selection import train_test_split\n",
    "from sklearn.ensemble import RandomForestRegressor\n",
    "import time\n",
    "\n",
    "sns.set_theme()"
   ]
  },
  {
   "cell_type": "markdown",
   "metadata": {},
   "source": [
    "#### Dataset\n",
    "\n",
    "##### Features\n",
    "\n",
    "The dataset contains the following columns: 1. User ID: Identifier for each user. 2. Device Model: Model of the user's device. 3. Operating System: OS installed on the device. 4. App Usage Time (min/day): Time spent using apps, in minutes per day. 5. Screen On Time (hours/day): Screen-on time, in hours per day. 6. Battery Drain (mAh/day): Battery drain per day in mAh. 7. Number of Apps Installed: Total number of apps installed on the device. 8. Data Usage (MB/day): Data usage per day in megabytes. 9. Age: Age of the user. 10. Gender: Gender of the user.\n",
    "User Behavior Class: Categorization of user behavior.\n"
   ]
  },
  {
   "cell_type": "code",
   "execution_count": null,
   "metadata": {},
   "outputs": [],
   "source": [
    "#01: Load the Dataset\n",
    "data_path = 'user_behavior_dataset.csv'\n",
    "data = pd.read_csv(data_path)"
   ]
  },
  {
   "cell_type": "markdown",
   "metadata": {},
   "source": [
    "### 02: Data Preparation\n"
   ]
  },
  {
   "cell_type": "code",
   "execution_count": null,
   "metadata": {},
   "outputs": [],
   "source": [
    "print(\"Dataset Overview:\")\n",
    "data.head()"
   ]
  },
  {
   "cell_type": "code",
   "execution_count": null,
   "metadata": {},
   "outputs": [],
   "source": [
    "# Inspect Dataset data types & non-null walues\n",
    "print(\"\\n Dataset Info:\")\n",
    "print(data.info())"
   ]
  },
  {
   "cell_type": "code",
   "execution_count": null,
   "metadata": {},
   "outputs": [],
   "source": [
    "# View if there is null values\n",
    "print(\"\\n Missing Values:\")\n",
    "print(data.isnull().sum())"
   ]
  },
  {
   "cell_type": "code",
   "execution_count": null,
   "metadata": {},
   "outputs": [],
   "source": [
    "# Remove rows with missing values (if seen above)\n",
    "data = data.dropna()"
   ]
  },
  {
   "cell_type": "code",
   "execution_count": null,
   "metadata": {},
   "outputs": [],
   "source": [
    "# Renaming columns for consistency and brevity\n",
    "data = data.rename(columns={\n",
    "    'User ID': 'user_id',\n",
    "    'Device Model': 'device',\n",
    "    'Operating System': 'os',\n",
    "    'App Usage Time (min/day)': 'app_usage',\n",
    "    'Screen On Time (hours/day)': 'screen_time',\n",
    "    'Battery Drain (mAh/day)': 'battery',\n",
    "    'Number of Apps Installed': 'num_apps',\n",
    "    'Data Usage (MB/day)': 'data',\n",
    "    'User Behavior Class': 'behave_class'\n",
    "})\n",
    "data.head()"
   ]
  },
  {
   "cell_type": "markdown",
   "metadata": {},
   "source": [
    "### 03: Feature Engineering\n"
   ]
  },
  {
   "cell_type": "code",
   "execution_count": null,
   "metadata": {},
   "outputs": [],
   "source": [
    "# Calculate the total screen-on time in minutes per user\n",
    "# data['screen_time'] = data['screen_time'].astype(float)\n",
    "data['screen_time'] = data['screen_time'] * 60  # Convert hours to minutes\n",
    "data['screen_time'].unique()\n",
    "\n",
    "# plt.hist(data['screen_time'])\n",
    "\n",
    "# Visualization: Screen Time Distribution\n",
    "plt.figure(figsize=(8, 5))\n",
    "# plt.bar(data['user_id'], data['screen_time'], color='red')\n",
    "sns.barplot(data=data, x='screen_time', y='user_id')\n",
    "plt.title('Screen Time by User ID')\n",
    "plt.xlabel('User ID')\n",
    "plt.ylabel('Screen Time (Hours)')\n",
    "# plt.xticks(data['user_id'])\n",
    "# plt.tgiht_layout()\n",
    "plt.show()"
   ]
  },
  {
   "cell_type": "code",
   "execution_count": null,
   "metadata": {},
   "outputs": [],
   "source": [
    "# Calculate the number of apps per user\n",
    "# apps_per_user = data.groupby('user_id')['app_name'].nunique().reset_index()\n",
    "# apps_per_user.columns = ['user_id', 'num_apps']\n",
    "apps_per_user = data[['user_id', 'num_apps']]\n",
    "# plt.hist(data['num_apps'])\n",
    "plt.figure(figsize=(8, 5))\n",
    "plt.bar(data['user_id'], data['screen_time'], color='red')\n",
    "plt.title('Screen Time by User ID')\n",
    "plt.xlabel('User ID')\n",
    "plt.ylabel('Screen Time (Hours)')\n",
    "# plt.xticks(data['user_id'])\n",
    "# plt.tgiht_layout()\n",
    "plt.show()"
   ]
  },
  {
   "cell_type": "code",
   "execution_count": null,
   "metadata": {},
   "outputs": [],
   "source": [
    "# Set the figure size\n",
    "plt.figure(figsize=(10, 6))\n",
    "\n",
    "# Create a histogram\n",
    "sns.histplot(data['num_apps'], bins=20, kde=True, color='blue')\n",
    "\n",
    "# Set the title and labels\n",
    "plt.title('Distribution of Apps per user', fontsize=16)\n",
    "plt.xlabel('Apps per user', fontsize=12)\n",
    "plt.ylabel('Frequency', fontsize=12)\n",
    "\n",
    "# Add grid lines\n",
    "plt.grid(True, linestyle='--', alpha=0.7)\n",
    "\n",
    "# Display the plot\n",
    "plt.tight_layout()\n",
    "plt.show()"
   ]
  },
  {
   "cell_type": "code",
   "execution_count": null,
   "metadata": {},
   "outputs": [],
   "source": [
    "# Calculate the total screen-on time per user\n",
    "screen_time_per_user = data.groupby('user_id')['screen_time'].sum().reset_index()\n",
    "# screen_time_per_user.columns = ['user_id', 'total_screen_time']\n",
    "# screen_time_per_user.head()\n",
    "\n",
    "plt.figure(figsize=(10, 6))\n",
    "\n",
    "# Create a histogram\n",
    "sns.histplot(data['screen_time'], bins=20, kde=True, color='blue')\n",
    "\n",
    "# Set the title and labels\n",
    "plt.title('Distribution of Screen-on time', fontsize=16)\n",
    "plt.xlabel('Screen-on time per user', fontsize=12)\n",
    "plt.ylabel('Frequency', fontsize=12)\n",
    "\n",
    "# Add grid lines\n",
    "plt.grid(True, linestyle='--', alpha=0.7)\n",
    "\n",
    "# Display the plot\n",
    "plt.tight_layout()\n",
    "plt.show()"
   ]
  },
  {
   "cell_type": "code",
   "execution_count": null,
   "metadata": {},
   "outputs": [],
   "source": [
    "# Merge the two datasets\n",
    "user_data = pd.merge(apps_per_user, screen_time_per_user, on='user_id')\n",
    "user_data.head()"
   ]
  },
  {
   "cell_type": "markdown",
   "metadata": {},
   "source": [
    "### 04: Exploratory Data Analysis\n"
   ]
  },
  {
   "cell_type": "code",
   "execution_count": null,
   "metadata": {},
   "outputs": [],
   "source": [
    "# Scatter Plot\n",
    "plt.figure(figsize=(10, 6))\n",
    "sns.scatterplot(data=user_data, x='num_apps', y='total_screen_time')\n",
    "plt.title('Number of Apps vs Total Screen Time')\n",
    "plt.xlabel('Number of Apps')\n",
    "plt.ylabel('Total Screen Time (minutes)')\n",
    "plt.show()"
   ]
  },
  {
   "cell_type": "code",
   "execution_count": null,
   "metadata": {},
   "outputs": [],
   "source": [
    "# Investigate unique values of total_screen_time\n",
    "print(\"\\nUnique Total Screen Time Values:\")\n",
    "print(user_data['total_screen_time'].unique())"
   ]
  },
  {
   "cell_type": "code",
   "execution_count": null,
   "metadata": {},
   "outputs": [],
   "source": [
    "# Plot histogram to visualize the distribution of total_screen_time\n",
    "plt.figure(figsize=(10, 6))\n",
    "plt.hist(user_data['total_screen_time'], bins=20, edgecolor='black', alpha=0.7)\n",
    "plt.title('Distribution of Total Screen Time')\n",
    "plt.xlabel('Total Screen Time (minutes)')\n",
    "plt.ylabel('Frequency')\n",
    "plt.show()"
   ]
  },
  {
   "cell_type": "code",
   "execution_count": null,
   "metadata": {},
   "outputs": [],
   "source": [
    "# Add jitter to the data for better visualization\n",
    "user_data['total_screen_time_jittered'] = user_data['total_screen_time'] + np.random.normal(0, 5, size=user_data.shape[0])\n",
    "\n",
    "plt.figure(figsize=(10, 6))\n",
    "sns.scatterplot(data=user_data, x='num_apps', y='total_screen_time_jittered', alpha=0.6)\n",
    "plt.title('Number of Apps vs Total Screen Time (With Jitter)')\n",
    "plt.xlabel('Number of Apps')\n",
    "plt.ylabel('Total Screen Time (minutes, with jitter)')\n",
    "plt.show()"
   ]
  },
  {
   "cell_type": "markdown",
   "metadata": {},
   "source": [
    "### Step 5: Correlation Matrix\n"
   ]
  },
  {
   "cell_type": "code",
   "execution_count": null,
   "metadata": {},
   "outputs": [],
   "source": [
    "# Calculate correlation coefficients\n",
    "pearson_corr, pearson_pval = pearsonr(user_data['num_apps'], user_data['total_screen_time'])\n",
    "spearman_corr, spearman_pval = spearmanr(user_data['num_apps'], user_data['total_screen_time'])\n",
    "\n",
    "print(f\"Pearson Correlation: {pearson_corr:.2f} (p-value: {pearson_pval:.3f})\")\n",
    "print(f\"Spearman Correlation: {spearman_corr:.2f} (p-value: {spearman_pval:.3f})\")"
   ]
  },
  {
   "cell_type": "markdown",
   "metadata": {},
   "source": [
    "### Step 6: Linear Regression\n"
   ]
  },
  {
   "cell_type": "code",
   "execution_count": null,
   "metadata": {},
   "outputs": [],
   "source": [
    "# Linear Regression\n",
    "# Prepare the data\n",
    "X = user_data[['num_apps']]\n",
    "Y = user_data['total_screen_time']\n",
    "\n",
    "# Fit the model\n",
    "model = LinearRegression()\n",
    "model.fit(X, Y)\n",
    "\n",
    "# Predictions and Evaluation\n",
    "predictions = model.predict(X)\n",
    "rmse = np.sqrt(mean_squared_error(Y, predictions))\n",
    "r2 = r2_score(Y, predictions)\n",
    "\n",
    "print(f\"\\nLinear Regression Model:\")\n",
    "print(f\"Coefficient: {model.coef_[0]:.2f}\")\n",
    "print(f\"Intercept: {model.intercept_:.2f}\")\n",
    "print(f\"RMSE: {rmse:.2f}\")\n",
    "print(f\"R^2 Score: {r2:.2f}\")\n",
    "\n",
    "# RMSE\n",
    "# root mean square error"
   ]
  },
  {
   "cell_type": "code",
   "execution_count": null,
   "metadata": {},
   "outputs": [],
   "source": [
    "# Regression Line\n",
    "plt.figure(figsize=(10, 6))\n",
    "sns.regplot(data=user_data, x='num_apps', y='total_screen_time', line_kws={'color': 'red'})\n",
    "plt.title('Regression Line: Number of Apps vs Total Screen Time')\n",
    "plt.xlabel('Number of Apps')\n",
    "plt.ylabel('Total Screen Time (minutes)')\n",
    "plt.show()"
   ]
  },
  {
   "cell_type": "markdown",
   "metadata": {},
   "source": [
    "### Step 7: Predictive Modeling\n"
   ]
  },
  {
   "cell_type": "code",
   "execution_count": null,
   "metadata": {},
   "outputs": [],
   "source": [
    "# Prepare the data\n",
    "X = user_data[['num_apps']]\n",
    "Y = user_data['total_screen_time']\n",
    "\n",
    "# Split the data into training and testing sets\n",
    "X_train, X_test, Y_train, Y_test = train_test_split(X, Y, test_size=0.3, random_state=42)\n",
    "\n",
    "# Linear Regression\n",
    "linear_model = LinearRegression()\n",
    "linear_model.fit(X_train, Y_train)\n",
    "\n",
    "# Predictions on test data\n",
    "linear_predictions = linear_model.predict(X_test)\n",
    "\n",
    "# Evaluate the model\n",
    "linear_rmse = np.sqrt(mean_squared_error(Y_test, linear_predictions))\n",
    "linear_r2 = r2_score(Y_test, linear_predictions)\n",
    "\n",
    "print(f\"\\nLinear Regression Model:\")\n",
    "print(f\"Coefficient: {linear_model.coef_[0]:.2f}\")\n",
    "print(f\"Intercept: {linear_model.intercept_:.2f}\")\n",
    "print(f\"RMSE: {linear_rmse:.2f}\")\n",
    "print(f\"R^2 Score: {linear_r2:.2f}\")"
   ]
  },
  {
   "cell_type": "code",
   "execution_count": null,
   "metadata": {},
   "outputs": [],
   "source": [
    "# Random Forest Regression\n",
    "rf_model = RandomForestRegressor(random_state=42, n_estimators=100)\n",
    "rf_model.fit(X_train, Y_train)\n",
    "\n",
    "# Predictions\n",
    "rf_predictions = rf_model.predict(X_test)\n",
    "\n",
    "# Evaluate Random Forest\n",
    "rf_rmse = np.sqrt(mean_squared_error(Y_test, rf_predictions))\n",
    "rf_r2 = r2_score(Y_test, rf_predictions)\n",
    "\n",
    "print(f\"\\nRandom Forest Regression Model:\")\n",
    "print(f\"RMSE: {rf_rmse:.2f}\")\n",
    "print(f\"R^2 Score: {rf_r2:.2f}\")\n",
    "\n",
    "# Plot predictions for both models\n",
    "plt.figure(figsize=(10, 6))\n",
    "plt.scatter(Y_test, linear_predictions, alpha=0.6, label='Linear Regression')\n",
    "plt.scatter(Y_test, rf_predictions, alpha=0.6, label='Random Forest', color='orange')\n",
    "plt.plot([min(Y_test), max(Y_test)], [min(Y_test), max(Y_test)], color='red', linestyle='--', label='Ideal Fit')\n",
    "plt.title('Model Predictions vs Actual Total Screen Time')\n",
    "plt.xlabel('Actual Total Screen Time (minutes)')\n",
    "plt.ylabel('Predicted Total Screen Time (minutes)')\n",
    "plt.legend()\n",
    "plt.show()\n"
   ]
  },
  {
   "cell_type": "code",
   "execution_count": null,
   "metadata": {},
   "outputs": [],
   "source": [
    "# Prepare the data\n",
    "X = user_data[['num_apps']]\n",
    "Y = user_data['total_screen_time']\n",
    "\n",
    "# Split into training and testing sets\n",
    "X_train, X_test, Y_train, Y_test = train_test_split(X, Y, test_size=0.2, random_state=42)\n",
    "\n",
    "# Linear Regression Benchmark\n",
    "start_time_linear = time.time()\n",
    "linear_model = LinearRegression()\n",
    "linear_model.fit(X_train, Y_train)\n",
    "linear_end_time = time.time()\n",
    "\n",
    "# Predictions\n",
    "linear_predictions = linear_model.predict(X_test)\n",
    "\n",
    "# Evaluate Linear Regression\n",
    "linear_rmse = np.sqrt(mean_squared_error(Y_test, linear_predictions))\n",
    "linear_r2 = r2_score(Y_test, linear_predictions)\n",
    "linear_time_taken = linear_end_time - start_time_linear\n",
    "\n",
    "print(f\"\\nLinear Regression Model:\")\n",
    "print(f\"Coefficient: {linear_model.coef_[0]:.2f}\")\n",
    "print(f\"Intercept: {linear_model.intercept_:.2f}\")\n",
    "print(f\"RMSE: {linear_rmse:.2f}\")\n",
    "print(f\"R^2 Score: {linear_r2:.2f}\")\n",
    "print(f\"Time Taken: {linear_time_taken:.4f} seconds\")\n",
    "\n",
    "# Random Forest Benchmark\n",
    "start_time_rf = time.time()\n",
    "rf_model = RandomForestRegressor(random_state=42, n_estimators=100)\n",
    "rf_model.fit(X_train, Y_train)\n",
    "rf_end_time = time.time()\n",
    "\n",
    "# Predictions\n",
    "rf_predictions = rf_model.predict(X_test)\n",
    "\n",
    "# Evaluate Random Forest\n",
    "rf_rmse = np.sqrt(mean_squared_error(Y_test, rf_predictions))\n",
    "rf_r2 = r2_score(Y_test, rf_predictions)\n",
    "rf_time_taken = rf_end_time - start_time_rf\n",
    "\n",
    "print(f\"\\nRandom Forest Regression Model:\")\n",
    "print(f\"RMSE: {rf_rmse:.2f}\")\n",
    "print(f\"R^2 Score: {rf_r2:.2f}\")\n",
    "print(f\"Time Taken: {rf_time_taken:.4f} seconds\")\n",
    "\n",
    "# Benchmark Comparison\n",
    "print(\"\\nBenchmark Comparison:\")\n",
    "print(f\"Linear Regression - RMSE: {linear_rmse:.2f}, R^2: {linear_r2:.2f}, Time: {linear_time_taken:.4f}s\")\n",
    "print(f\"Random Forest - RMSE: {rf_rmse:.2f}, R^2: {rf_r2:.2f}, Time: {rf_time_taken:.4f}s\")\n",
    "\n",
    "# Plot predictions for both models\n",
    "plt.figure(figsize=(10, 6))\n",
    "plt.scatter(Y_test, linear_predictions, alpha=0.6, label='Linear Regression')\n",
    "plt.scatter(Y_test, rf_predictions, alpha=0.6, label='Random Forest', color='orange')\n",
    "plt.plot([min(Y_test), max(Y_test)], [min(Y_test), max(Y_test)], color='red', linestyle='--', label='Ideal Fit')\n",
    "plt.title('Model Predictions vs Actual Total Screen Time')\n",
    "plt.xlabel('Actual Total Screen Time (minutes)')\n",
    "plt.ylabel('Predicted Total Screen Time (minutes)')\n",
    "plt.legend()\n",
    "plt.show()"
   ]
  },
  {
   "cell_type": "markdown",
   "metadata": {},
   "source": [
    "### Step 7: Conclusion\n"
   ]
  },
  {
   "cell_type": "code",
   "execution_count": null,
   "metadata": {},
   "outputs": [],
   "source": [
    "print(\"\\nDiscussion:\")\n",
    "print(\"The analysis compared Linear Regression and Random Forest Regression for predicting screen time.\")\n",
    "print(\"Linear Regression is interpretable but assumes a linear relationship, while Random Forest captures potential non-linearities.\")\n",
    "print(\"Based on RMSE and R^2 scores, the model with the best performance can be selected.\")"
   ]
  }
 ],
 "metadata": {
  "kernelspec": {
   "display_name": "base",
   "language": "python",
   "name": "python3"
  },
  "language_info": {
   "codemirror_mode": {
    "name": "ipython",
    "version": 3
   },
   "file_extension": ".py",
   "mimetype": "text/x-python",
   "name": "python",
   "nbconvert_exporter": "python",
   "pygments_lexer": "ipython3",
   "version": "3.12.3"
  }
 },
 "nbformat": 4,
 "nbformat_minor": 4
}
