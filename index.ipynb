{
 "cells": [
  {
   "cell_type": "code",
   "execution_count": 2,
   "id": "8c57d164-8909-4838-9c82-068f4496cf3a",
   "metadata": {},
   "outputs": [],
   "source": [
    "#All package Imports\n",
    "# import kagglehub as kh\n",
    "import pandas as pd\n",
    "import matplotlib.pyplot as plt\n",
    "import matplotlib as mpl\n",
    "import seaborn as sns\n",
    "%matplotlib inline\n",
    "\n",
    "sns.set_theme()"
   ]
  },
  {
   "cell_type": "code",
   "execution_count": null,
   "id": "8d1c9f7e-eb3b-49b2-91fc-911545b09779",
   "metadata": {},
   "outputs": [],
   "source": [
    "#Download latest dataset from kaggle\n",
    "#Run this only once\n",
    "path = kh.dataset_download(\"valakhorasani/mobile-device-usage-and-user-behavior-dataset\")\n",
    "print(\"Path to dataset files:\", path)"
   ]
  },
  {
   "cell_type": "code",
   "execution_count": null,
   "id": "8738fd00-21e7-4b8e-9263-57468a5097b9",
   "metadata": {},
   "outputs": [
    {
     "data": {
      "text/plain": [
       "<bound method DataFrame.info of      User ID        Device Model Operating System  App Usage Time (min/day)  \\\n",
       "0          1      Google Pixel 5          Android                       393   \n",
       "1          2           OnePlus 9          Android                       268   \n",
       "2          3        Xiaomi Mi 11          Android                       154   \n",
       "3          4      Google Pixel 5          Android                       239   \n",
       "4          5           iPhone 12              iOS                       187   \n",
       "..       ...                 ...              ...                       ...   \n",
       "695      696           iPhone 12              iOS                        92   \n",
       "696      697        Xiaomi Mi 11          Android                       316   \n",
       "697      698      Google Pixel 5          Android                        99   \n",
       "698      699  Samsung Galaxy S21          Android                        62   \n",
       "699      700           OnePlus 9          Android                       212   \n",
       "\n",
       "     Screen On Time (hours/day)  Battery Drain (mAh/day)  \\\n",
       "0                           6.4                     1872   \n",
       "1                           4.7                     1331   \n",
       "2                           4.0                      761   \n",
       "3                           4.8                     1676   \n",
       "4                           4.3                     1367   \n",
       "..                          ...                      ...   \n",
       "695                         3.9                     1082   \n",
       "696                         6.8                     1965   \n",
       "697                         3.1                      942   \n",
       "698                         1.7                      431   \n",
       "699                         5.4                     1306   \n",
       "\n",
       "     Number of Apps Installed  Data Usage (MB/day)  Age  Gender  \\\n",
       "0                          67                 1122   40    Male   \n",
       "1                          42                  944   47  Female   \n",
       "2                          32                  322   42    Male   \n",
       "3                          56                  871   20    Male   \n",
       "4                          58                  988   31  Female   \n",
       "..                        ...                  ...  ...     ...   \n",
       "695                        26                  381   22    Male   \n",
       "696                        68                 1201   59    Male   \n",
       "697                        22                  457   50  Female   \n",
       "698                        13                  224   44    Male   \n",
       "699                        49                  828   23  Female   \n",
       "\n",
       "     User Behavior Class  \n",
       "0                      4  \n",
       "1                      3  \n",
       "2                      2  \n",
       "3                      3  \n",
       "4                      3  \n",
       "..                   ...  \n",
       "695                    2  \n",
       "696                    4  \n",
       "697                    2  \n",
       "698                    1  \n",
       "699                    3  \n",
       "\n",
       "[700 rows x 11 columns]>"
      ]
     },
     "execution_count": 12,
     "metadata": {},
     "output_type": "execute_result"
    }
   ],
   "source": [
    "#Read Data\n",
    "df = pd.read_csv('user_behavior_dataset.csv')\n",
    "df.head()\n",
    "\n",
    "# df.drop(['0'], axis=1)\n",
    "# df.head()\n",
    "df"
   ]
  },
  {
   "cell_type": "code",
   "execution_count": null,
   "id": "235048f7",
   "metadata": {},
   "outputs": [],
   "source": [
    "#Describe data\n",
    "df.describe()"
   ]
  },
  {
   "cell_type": "code",
   "execution_count": null,
   "id": "4abb710f",
   "metadata": {},
   "outputs": [],
   "source": [
    "#Data info\n",
    "df.info()"
   ]
  },
  {
   "cell_type": "code",
   "execution_count": null,
   "id": "54a5856b",
   "metadata": {},
   "outputs": [
    {
     "data": {
      "text/plain": [
       "(700, 11)"
      ]
     },
     "execution_count": 23,
     "metadata": {},
     "output_type": "execute_result"
    }
   ],
   "source": [
    "#Dataset number of records and columns\n",
    "df.shape"
   ]
  },
  {
   "cell_type": "code",
   "execution_count": null,
   "id": "0453d398",
   "metadata": {},
   "outputs": [],
   "source": [
    "#Check for null values\n",
    "df.isnull().sum()"
   ]
  },
  {
   "cell_type": "code",
   "execution_count": null,
   "id": "078d2b64",
   "metadata": {},
   "outputs": [],
   "source": [
    "#check for duplicates\n",
    "df.duplicated().sum()"
   ]
  },
  {
   "cell_type": "code",
   "execution_count": 6,
   "id": "5c523772",
   "metadata": {},
   "outputs": [
    {
     "data": {
      "text/html": [
       "<div>\n",
       "<style scoped>\n",
       "    .dataframe tbody tr th:only-of-type {\n",
       "        vertical-align: middle;\n",
       "    }\n",
       "\n",
       "    .dataframe tbody tr th {\n",
       "        vertical-align: top;\n",
       "    }\n",
       "\n",
       "    .dataframe thead th {\n",
       "        text-align: right;\n",
       "    }\n",
       "</style>\n",
       "<table border=\"1\" class=\"dataframe\">\n",
       "  <thead>\n",
       "    <tr style=\"text-align: right;\">\n",
       "      <th></th>\n",
       "      <th>User ID</th>\n",
       "      <th>App Usage Time (min/day)</th>\n",
       "      <th>Screen On Time (hours/day)</th>\n",
       "      <th>Number of Apps Installed</th>\n",
       "    </tr>\n",
       "  </thead>\n",
       "  <tbody>\n",
       "    <tr>\n",
       "      <th>0</th>\n",
       "      <td>1</td>\n",
       "      <td>393</td>\n",
       "      <td>6.4</td>\n",
       "      <td>67</td>\n",
       "    </tr>\n",
       "    <tr>\n",
       "      <th>1</th>\n",
       "      <td>2</td>\n",
       "      <td>268</td>\n",
       "      <td>4.7</td>\n",
       "      <td>42</td>\n",
       "    </tr>\n",
       "    <tr>\n",
       "      <th>2</th>\n",
       "      <td>3</td>\n",
       "      <td>154</td>\n",
       "      <td>4.0</td>\n",
       "      <td>32</td>\n",
       "    </tr>\n",
       "    <tr>\n",
       "      <th>3</th>\n",
       "      <td>4</td>\n",
       "      <td>239</td>\n",
       "      <td>4.8</td>\n",
       "      <td>56</td>\n",
       "    </tr>\n",
       "    <tr>\n",
       "      <th>4</th>\n",
       "      <td>5</td>\n",
       "      <td>187</td>\n",
       "      <td>4.3</td>\n",
       "      <td>58</td>\n",
       "    </tr>\n",
       "  </tbody>\n",
       "</table>\n",
       "</div>"
      ],
      "text/plain": [
       "   User ID  App Usage Time (min/day)  Screen On Time (hours/day)  \\\n",
       "0        1                       393                         6.4   \n",
       "1        2                       268                         4.7   \n",
       "2        3                       154                         4.0   \n",
       "3        4                       239                         4.8   \n",
       "4        5                       187                         4.3   \n",
       "\n",
       "   Number of Apps Installed  \n",
       "0                        67  \n",
       "1                        42  \n",
       "2                        32  \n",
       "3                        56  \n",
       "4                        58  "
      ]
     },
     "execution_count": 6,
     "metadata": {},
     "output_type": "execute_result"
    }
   ],
   "source": [
    "#Select relevant dataset properties \n",
    "#Important to use single quotes and double [[]] brackets\n",
    "df_select = df[['User ID', 'App Usage Time (min/day)', 'Screen On Time (hours/day)', 'Number of Apps Installed']]\n",
    "df_select.head()"
   ]
  },
  {
   "cell_type": "code",
   "execution_count": 18,
   "id": "ff20e988",
   "metadata": {},
   "outputs": [
    {
     "data": {
      "text/html": [
       "<div>\n",
       "<style scoped>\n",
       "    .dataframe tbody tr th:only-of-type {\n",
       "        vertical-align: middle;\n",
       "    }\n",
       "\n",
       "    .dataframe tbody tr th {\n",
       "        vertical-align: top;\n",
       "    }\n",
       "\n",
       "    .dataframe thead th {\n",
       "        text-align: right;\n",
       "    }\n",
       "</style>\n",
       "<table border=\"1\" class=\"dataframe\">\n",
       "  <thead>\n",
       "    <tr style=\"text-align: right;\">\n",
       "      <th></th>\n",
       "      <th>ID</th>\n",
       "      <th>Usage_Time</th>\n",
       "      <th>Screen_Ontime</th>\n",
       "      <th>No_Apps</th>\n",
       "    </tr>\n",
       "  </thead>\n",
       "  <tbody>\n",
       "    <tr>\n",
       "      <th>0</th>\n",
       "      <td>1</td>\n",
       "      <td>393</td>\n",
       "      <td>6.4</td>\n",
       "      <td>67</td>\n",
       "    </tr>\n",
       "    <tr>\n",
       "      <th>1</th>\n",
       "      <td>2</td>\n",
       "      <td>268</td>\n",
       "      <td>4.7</td>\n",
       "      <td>42</td>\n",
       "    </tr>\n",
       "    <tr>\n",
       "      <th>2</th>\n",
       "      <td>3</td>\n",
       "      <td>154</td>\n",
       "      <td>4.0</td>\n",
       "      <td>32</td>\n",
       "    </tr>\n",
       "    <tr>\n",
       "      <th>3</th>\n",
       "      <td>4</td>\n",
       "      <td>239</td>\n",
       "      <td>4.8</td>\n",
       "      <td>56</td>\n",
       "    </tr>\n",
       "    <tr>\n",
       "      <th>4</th>\n",
       "      <td>5</td>\n",
       "      <td>187</td>\n",
       "      <td>4.3</td>\n",
       "      <td>58</td>\n",
       "    </tr>\n",
       "  </tbody>\n",
       "</table>\n",
       "</div>"
      ],
      "text/plain": [
       "   ID  Usage_Time  Screen_Ontime  No_Apps\n",
       "0   1         393            6.4       67\n",
       "1   2         268            4.7       42\n",
       "2   3         154            4.0       32\n",
       "3   4         239            4.8       56\n",
       "4   5         187            4.3       58"
      ]
     },
     "execution_count": 18,
     "metadata": {},
     "output_type": "execute_result"
    }
   ],
   "source": [
    "# Analyzing Selected Features\n",
    "df_select = df_select.rename( columns = {'App Usage Time (min/day)':'Usage_Time','Screen On Time (hours/day)':'Screen_Ontime', 'Number of Apps Installed':'No_Apps'})\n",
    "\n",
    "# fig, axes = plt.subplots(nrows=2, ncols=3, figsize=(15, 12))\n",
    "# axes = axes.flatten()\n",
    "\n",
    "# for i, col in enumerate(df_select):\n",
    "#     sns.histplot(df[col], ax=axes[i], kde=True, color='green')\n",
    "#     axes[i].set_title(col)\n",
    "#     axes[i].set_xlabel(\" \".join(str(col).split(\" \")[-2:]))\n",
    "\n",
    "# plt.tight_layout()\n",
    "# plt.show()\n",
    "\n",
    "df_select.head()"
   ]
  },
  {
   "cell_type": "code",
   "execution_count": null,
   "id": "579314ab",
   "metadata": {},
   "outputs": [],
   "source": []
  }
 ],
 "metadata": {
  "kernelspec": {
   "display_name": "base",
   "language": "python",
   "name": "python3"
  },
  "language_info": {
   "codemirror_mode": {
    "name": "ipython",
    "version": 3
   },
   "file_extension": ".py",
   "mimetype": "text/x-python",
   "name": "python",
   "nbconvert_exporter": "python",
   "pygments_lexer": "ipython3",
   "version": "3.12.3"
  }
 },
 "nbformat": 4,
 "nbformat_minor": 5
}
